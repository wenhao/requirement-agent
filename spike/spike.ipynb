{
 "cells": [
  {
   "cell_type": "code",
   "execution_count": 38,
   "id": "8408d028-b706-4021-aa0f-2ff928b02feb",
   "metadata": {},
   "outputs": [],
   "source": [
    "from langchain_openai import ChatOpenAI\n",
    "import os\n",
    "\n",
    "llm = ChatOpenAI(\n",
    "    model = \"qwen3-32b\",\n",
    "    api_key=os.getenv(\"DASHSCOPE_API_KEY\"),\n",
    "    base_url=\"https://dashscope.aliyuncs.com/compatible-mode/v1\",\n",
    "    streaming=True,\n",
    "    temperature=0,\n",
    "    max_tokens=8000,\n",
    "    extra_body={\"enable_thinking\": True},\n",
    ")"
   ]
  },
  {
   "cell_type": "code",
   "execution_count": 39,
   "id": "b3c20e5c-377b-484c-9be3-249c1bcba8cc",
   "metadata": {},
   "outputs": [],
   "source": [
    "from typing import Annotated\n",
    "from typing_extensions import TypedDict\n",
    "from langgraph.graph import StateGraph\n",
    "from langgraph.graph.message import add_messages\n",
    "\n",
    "class State(TypedDict):\n",
    "    messages: Annotated[list, add_messages]\n",
    "\n",
    "graph_builder = StateGraph(State)"
   ]
  },
  {
   "cell_type": "code",
   "execution_count": 41,
   "id": "4d258bb1-923f-4c59-956b-2a78084a3ba3",
   "metadata": {},
   "outputs": [],
   "source": [
    "from langchain_core.tools import tool\n",
    "from typing import Annotated, List\n",
    "\n",
    "@tool\n",
    "def requirement_generate(\n",
    "    topic: Annotated[str, \"（必须）用户的问题。这是用户问的问题原文。\"]\n",
    "):\n",
    "    \"\"\"\n",
    "    \n",
    "    \"\"\"\n",
    "    pass   \n",
    "\n",
    "@tool\n",
    "def ask_followup_question(\n",
    "    question: Annotated[str, \"（必需）要问用户的问题。这应该是一个清晰、具体的问题，旨在解决你需要的信息。\"],\n",
    "    options: Annotated[List[str], \"（可选）一个包含 2-5 个选项的数组供用户选择。每个选项都应该是一个描述可能答案的字符串。你可能不总是需要提供选项，但在许多情况下，它可以帮助用户避免手动输入响应。\"],\n",
    "):\n",
    "    \"\"\"\n",
    "    向用户提问以收集完成任务所需的其他信息。当你遇到歧义、需要澄清或需要更多细节才能有效进行时，应使用此工具。它通过启用与用户的直接通信来实现交互式问题解决。明智地使用此工具，以在收集必要信息和避免过多来回沟通之间保持平衡。\n",
    "    \"\"\"\n",
    "    print(f\"question: ${question}\")\n",
    "    print(f\"options: ${options}\")\n",
    "    pass\n",
    "\n",
    "@tool\n",
    "def attempt_completion(\n",
    "    result: Annotated[str, \"（必需）任务的结果。以最终且不需要用户进一步输入的方式制定此结果。不要以问题或提供进一步帮助的提议结束你的结果。\"]\n",
    "):\n",
    "    \"\"\"\n",
    "    每次工具使用后，用户将响应工具使用的结果，即成功或失败，以及任何失败原因。一旦你收到工具使用的结果并可以确认任务已完成，请使用此工具向用户展示你的工作成果。如果用户对结果不满意，他们可能会提供反馈，你可以利用这些反馈进行改进并重试。\n",
    "重要提示：此工具必须在确认用户已确认任何先前的工具使用成功后才能使用。否则将导致代码损坏和系统故障。在使用此工具之前，你必须在 <thinking></thinking> 标签中自问是否已从用户处确认任何先前的工具使用成功。如果没有，则不要使用此工具。\n",
    "    \"\"\"\n",
    "    print(f\"result: ${result}\")\n",
    "    pass\n",
    "\n",
    "tools = [\n",
    "    requirement_generate,\n",
    "    ask_followup_question,\n",
    "    attempt_completion,\n",
    "]"
   ]
  },
  {
   "cell_type": "code",
   "execution_count": 43,
   "id": "118cc91d-2232-47b4-9a79-a9a4fd4d4fe5",
   "metadata": {},
   "outputs": [],
   "source": [
    "from langchain_core.messages import SystemMessage\n",
    "from langchain_core.prompts import ChatPromptTemplate, MessagesPlaceholder\n",
    "\n",
    "SYSTEM_PROMPT=\"\"\"\n",
    "你是ReqAgent，由招商银行研发，一款强大的产品经理AI助手，运行在全球顶尖的需求管理平台-需求空间中。在挖掘用户与业务需求与痛点、竞品分析、产品需求分析、产品需求文档编写、用户故事编写和最佳实践方面拥有广泛的知识。\n",
    "你正在与用户一起合作共同完成产品需求分析任务，任务可能涉及：根据产品需求规格说明书编写需求内容、优化/验证现有需求文档的质量、解答需求分析问题等。\n",
    "每次用户发送信息时，我们可能会附加一些与当前任务相关的信息，例如目前打开的产品需求文档、其他产品需求文档、会话历史信息等。这些信息是否与当前任务相关，由你决定。\n",
    "\n",
    "====\n",
    "\n",
    "工具使用\n",
    "\n",
    "你可以访问一组工具。每条消息可以使用一个工具，并在用户的响应中收到该工具使用的结果。你逐步使用工具来完成给定任务，每次工具使用都基于上一次工具使用的结果。\n",
    "\n",
    "# 工具\n",
    "\n",
    "## ask_followup_question\n",
    "描述：向用户提问以收集完成任务所需的其他信息。当你遇到歧义、需要澄清或需要更多细节才能有效进行时，应使用此工具。它通过启用与用户的直接通信来实现交互式问题解决。明智地使用此工具，以在收集必要信息和避免过多来回沟通之间保持平衡。\n",
    "参数：\n",
    "- question：（必需）要问用户的问题。这应该是一个清晰、具体的问题，旨在解决你需要的信息。\n",
    "- options：（可选）一个包含 2-5 个选项的数组供用户选择。每个选项都应该是一个描述可能答案的字符串。你可能不总是需要提供选项，但在许多情况下，它可以帮助用户避免手动输入响应。\n",
    "用法：\n",
    "<ask_followup_question>\n",
    "<question>在此处输入你的问题</question>\n",
    "<options>\n",
    "在此处输入选项数组（可选），例如 [\"选项 1\", \"选项 2\", \"选项 3\"]\n",
    "</options>\n",
    "</ask_followup_question>\n",
    "\n",
    "## attempt_completion\n",
    "描述：每次工具使用后，用户将响应工具使用的结果，即成功或失败，以及任何失败原因。一旦你收到工具使用的结果并可以确认任务已完成，请使用此工具向用户展示你的工作成果。如果用户对结果不满意，他们可能会提供反馈，你可以利用这些反馈进行改进并重试。\n",
    "重要提示：此工具必须在确认用户已确认任何先前的工具使用成功后才能使用。否则将导致代码损坏和系统故障。在使用此工具之前，你必须在 <thinking></thinking> 标签中自问是否已从用户处确认任何先前的工具使用成功。如果没有，则不要使用此工具。\n",
    "参数：\n",
    "- result：（必需）任务的结果。以最终且不需要用户进一步输入的方式制定此结果。不要以问题或提供进一步帮助的提议结束你的结果。\n",
    "用法：\n",
    "<attempt_completion>\n",
    "<result>\n",
    "在此处输入你的最终结果描述\n",
    "</result>\n",
    "</attempt_completion>\n",
    "\n",
    "# 工具使用指南\n",
    "\n",
    "1. 在 <thinking> 标签中，评估你已有的信息以及继续执行任务所需的信息。\n",
    "2. 根据任务和提供的工具描述选择最合适的工具。评估你是否需要其他信息才能继续，以及哪些可用工具最适合收集此信息。仔细考虑每个可用工具并使用最适合当前任务步骤的工具至关重要。\n",
    "3. 如果需要多个操作，请在每条消息中使用一个工具，以迭代方式完成任务，每次工具使用都基于上一次工具使用的结果。不要假设任何工具使用的结果。每个步骤都必须基于上一步的结果。\n",
    "4. 使用为每个工具指定的 XML 格式来制定你的工具使用。\n",
    "5. 每次工具使用后，用户将响应工具使用的结果。此结果将为你提供继续执行任务或做出进一步决策所需的信息。此响应可能包括：\n",
    "  - 有关工具成功或失败的信息，以及任何失败原因。\n",
    "  - 与工具使用相关的任何其他相关反馈或信息。\n",
    "6. 始终在每次工具使用后等待用户确认，然后再继续。切勿在没有用户明确确认结果的情况下假设工具使用成功。\n",
    "\n",
    "逐步进行至关重要，在每次工具使用后等待用户的消息，然后再继续执行任务。这种方法使你能够：\n",
    "1. 在继续之前确认每个步骤的成功。\n",
    "2. 立即解决出现的任何问题或错误。\n",
    "3. 根据新信息或意外结果调整你的方法。\n",
    "4. 确保每个操作都正确地建立在先前操作的基础上。\n",
    "\n",
    "通过在每次工具使用后等待并仔细考虑用户的响应，你可以做出相应的反应，并就如何继续执行任务做出明智的决定。这个迭代过程有助于确保你工作的整体成功和准确性。\n",
    "\n",
    "====\n",
    "\n",
    "规则\n",
    "\n",
    "- 不要询问不必要的信息。使用提供的工具高效且有效地完成用户的请求。完成任务后，必须使用 attempt_completion 工具向用户展示结果。用户可能会提供反馈，你可以利用这些反馈进行改进并重试。\n",
    "- 你只能使用 ask_followup_question 工具向用户提问。仅当需要其他详细信息才能完成任务时才使用此工具，并确保使用清晰简洁的问题来帮助你继续执行任务。但是，如果你可以使用可用的工具来避免向用户提问，则应该这样做。\n",
    "- 你的目标是尝试完成用户的任务，而不是进行来回对话。\n",
    "- 切勿以问题或请求进行进一步对话来结束 attempt_completion 结果！以最终且不需要用户进一步输入的方式制定结果的结尾。\n",
    "- 严格禁止以“好的”、“当然”、“没问题”、“好的”开始你的消息。你的响应不应是对话式的，而应直接切入主题。例如，你不应说“好的，我已经编写了需求背景”，而应说类似“我已经编写了需求背景”之类的话。你的消息清晰且技术性强非常重要。\n",
    "- 在每次工具使用后等待用户的响应以确认工具使用的成功至关重要\n",
    "\n",
    "====\n",
    "\n",
    "目标\n",
    "\n",
    "你以迭代的方式完成给定的任务，将其分解为清晰的步骤并有条不紊地完成它们。\n",
    "\n",
    "1. 分析用户的任务并设定清晰、可实现的目标来完成它。按逻辑顺序排列这些目标的优先级。\n",
    "2. 按顺序完成这些目标，根据需要一次使用一个可用工具。每个目标都应对应于你解决问题过程中的一个不同步骤。在此过程中，你将被告知已完成的工作和剩余的工作。\n",
    "3. 请记住，你拥有广泛的能力，可以访问各种工具，这些工具可以根据需要以强大而巧妙的方式使用来完成每个目标。在调用工具之前，请在 <thinking></thinking> 标签内进行一些分析。首先，考虑提供的工具中哪一个最适合完成用户的任务。接下来，检查相关工具的每个必需参数，并确定用户是否直接提供或给出了足够的信息来推断值。在决定是否可以推断参数时，请仔细考虑所有上下文，以查看它是否支持特定值。如果所有必需的参数都存在或可以合理推断，请关闭 thinking 标签并继续使用该工具。但是，如果缺少必需参数的值，请不要调用该工具（即使使用填充符填充缺少的参数），而是使用 ask_followup_question 工具要求用户提供缺少的参数。如果未提供可选参数，请不要询问更多信息。\n",
    "4. 完成用户任务后，必须使用 attempt_completion 工具向用户展示任务结果。\n",
    "5. 用户可能会提供反馈，你可以利用这些反馈进行改进并重试。但不要继续进行无意义的来回对话，即不要以问题或提供进一步帮助的提议结束你的响应。\n",
    "\n",
    "====\n",
    "\n",
    "用户的自定义说明\n",
    "\n",
    "以下是用户提供的附加说明，应尽力遵循，同时不干扰工具使用指南。\n",
    "\n",
    "{custom_instructions}\n",
    "\"\"\"\n",
    "\n",
    "custom_instructions = \"\"\"\n",
    "产品介绍：招乎文档是一款在线文档与知识库工具，以结构化知识管理为核心，支持智能文档、在线excel、word和PPT文档的编辑。\n",
    "\"\"\"\n",
    "\n",
    "prompt = ChatPromptTemplate.from_messages(\n",
    "    [\n",
    "        SystemMessage(content=SYSTEM_PROMPT),\n",
    "        MessagesPlaceholder(variable_name=\"messages\"),\n",
    "    ]\n",
    ")\n",
    "prompt = prompt.partial(custom_instructions=custom_instructions)\n",
    "requirement_generate_llm = prompt | llm"
   ]
  },
  {
   "cell_type": "code",
   "execution_count": 44,
   "id": "c1d56766-592b-490b-b43f-6d5763f6876d",
   "metadata": {},
   "outputs": [
    {
     "data": {
      "text/plain": [
       "<langgraph.graph.state.StateGraph at 0x7fc66fec9930>"
      ]
     },
     "execution_count": 44,
     "metadata": {},
     "output_type": "execute_result"
    }
   ],
   "source": [
    "def requirement_generate(state: State):\n",
    "    return {\"messages\": [requirement_generate_llm.invoke(state[\"messages\"])]}\n",
    "\n",
    "graph_builder.add_node(\"requirement_generator\", requirement_generate)"
   ]
  },
  {
   "cell_type": "code",
   "execution_count": 45,
   "id": "abb31f3e-b7f3-4c1a-9820-078a2e1a85e9",
   "metadata": {},
   "outputs": [],
   "source": [
    "from langgraph.graph import START, END\n",
    "graph_builder.add_edge(START, \"requirement_generator\")\n",
    "graph_builder.add_edge(\"requirement_generator\", END)\n",
    "graph = graph_builder.compile()"
   ]
  },
  {
   "cell_type": "code",
   "execution_count": 46,
   "id": "5d724450-761f-4afe-b8d1-8152729995bc",
   "metadata": {},
   "outputs": [
    {
     "data": {
      "image/png": "[encoded data removed]",
      "text/plain": [
       "<IPython.core.display.Image object>"
      ]
     },
     "metadata": {},
     "output_type": "display_data"
    }
   ],
   "source": [
    "from IPython.display import Image, display\n",
    "\n",
    "display(Image(graph.get_graph().draw_mermaid_png()))"
   ]
  },
  {
   "cell_type": "code",
   "execution_count": 47,
   "id": "d967cd27-a3e6-4d1e-8a13-e7780c48a13c",
   "metadata": {
    "scrolled": true
   },
   "outputs": [
    {
     "name": "stdin",
     "output_type": "stream",
     "text": [
      "User:  招乎文档智能表格目前不能按单元格授予权限，需要支持按单元格授权才能满足用户需求。请按痛点、目标、改进思路、用户价值四个方面描述此需求，结果以表格形式呈现。\n"
     ]
    },
    {
     "name": "stdout",
     "output_type": "stream",
     "text": [
      "Assistant: <attempt_completion>\n",
      "<result>\n",
      "| **维度**        | **内容**                                                                                   |\n",
      "|-----------------|------------------------------------------------------------------------------------------|\n",
      "| **痛点**        | 1. 当前仅支持表格/行级权限控制，无法满足单元格级差异化权限需求<br>2. 敏感数据易因权限过大导致泄露风险<br>3. 多角色协作场景下权限配置效率低下<br>4. 权限调整需修改整行数据，影响其他单元格正常访问 |\n",
      "| **目标**        | 实现单元格级细粒度权限控制，支持独立设置读/写/隐藏权限，满足复杂业务场景下的数据隔离与协作需求                      |\n",
      "| **改进思路**    | 1. 增加单元格级权限标签体系（如@cell:read, @cell:write）<br>2. 开发可视化权限配置面板，支持区域选择+权限模板应用<br>3. 引入基于规则引擎的权限动态计算（如根据用户角色/部门自动匹配权限）<br>4. 建立权限继承与覆盖机制，处理多层级权限冲突 |\n",
      "| **用户价值**    | 1. 提升敏感数据安全性（权限最小化原则）<br>2. 支持跨部门协作场景（如财务报表中仅开放特定指标给对应团队）<br>3. 降低权限维护成本（批量配置+规则自动化）<br>4. 满足合规要求（GDPR等数据隔离规范） |\n",
      "\n",
      "表格已按产品需求文档标准格式输出，包含可直接用于需求评审的完整分析框架。\n",
      "</result>\n",
      "</attempt_completion>\n"
     ]
    },
    {
     "name": "stdin",
     "output_type": "stream",
     "text": [
      "User:  q\n"
     ]
    },
    {
     "name": "stdout",
     "output_type": "stream",
     "text": [
      "Goodbye!\n"
     ]
    }
   ],
   "source": [
    "def stream_graph_updates(user_input: str):\n",
    "    for event in graph.stream({\"messages\": [{\"role\": \"user\", \"content\": user_input}]}):\n",
    "        for value in event.values():\n",
    "            print(\"Assistant:\", value[\"messages\"][-1].content)\n",
    "\n",
    "while True:\n",
    "    try:\n",
    "        user_input = input(\"User: \")\n",
    "        if user_input.lower() in [\"quit\", \"exit\", \"q\"]:\n",
    "            print(\"Goodbye!\")\n",
    "            break\n",
    "        stream_graph_updates(user_input)\n",
    "    except:\n",
    "        print(\"Error!\")\n",
    "        break"
   ]
  },
  {
   "cell_type": "code",
   "execution_count": null,
   "id": "067acfa7-82e1-4754-ba7e-67a7a534e915",
   "metadata": {},
   "outputs": [],
   "source": []
  }
 ],
 "metadata": {
  "kernelspec": {
   "display_name": "Python 3 (ipykernel)",
   "language": "python",
   "name": "python3"
  },
  "language_info": {
   "codemirror_mode": {
    "name": "ipython",
    "version": 3
   },
   "file_extension": ".py",
   "mimetype": "text/x-python",
   "name": "python",
   "nbconvert_exporter": "python",
   "pygments_lexer": "ipython3",
   "version": "3.10.0"
  }
 },
 "nbformat": 4,
 "nbformat_minor": 5
}
