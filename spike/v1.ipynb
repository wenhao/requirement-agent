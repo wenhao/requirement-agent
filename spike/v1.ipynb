{
 "cells": [
  {
   "cell_type": "code",
   "execution_count": 155,
   "id": "c7c7c95d-6ac9-422f-94b2-5b6206fbf0f0",
   "metadata": {},
   "outputs": [],
   "source": [
    "from langchain_openai import ChatOpenAI\n",
    "import os\n",
    "\n",
    "llm = ChatOpenAI(\n",
    "    model = \"qwen3-32b\",\n",
    "    api_key=os.getenv(\"DASHSCOPE_API_KEY\"),\n",
    "    base_url=\"https://dashscope.aliyuncs.com/compatible-mode/v1\",\n",
    "    streaming=True,\n",
    "    temperature=0,\n",
    "    max_tokens=8000,\n",
    "    extra_body={\"enable_thinking\": True},\n",
    ")"
   ]
  },
  {
   "cell_type": "code",
   "execution_count": 156,
   "id": "a960b037-b6e2-402d-830a-b13faee90bc3",
   "metadata": {},
   "outputs": [],
   "source": [
    "from typing import Annotated\n",
    "\n",
    "from typing_extensions import TypedDict\n",
    "\n",
    "from langgraph.graph import StateGraph, START, END\n",
    "from langgraph.graph.message import add_messages\n",
    "\n",
    "class State(TypedDict):\n",
    "    messages: Annotated[list, add_messages]\n",
    "    latest_answer: str\n",
    "\n",
    "graph_builder = StateGraph(State)"
   ]
  },
  {
   "cell_type": "code",
   "execution_count": 157,
   "id": "d45029eb-041b-4721-b4c6-0219d6adb5fe",
   "metadata": {},
   "outputs": [],
   "source": [
    "from langchain_core.messages import HumanMessage, SystemMessage\n",
    "from langchain_core.prompts import ChatPromptTemplate, MessagesPlaceholder\n",
    "\n",
    "SYSTEM_PROMPT=\"\"\"\n",
    "你是ReqAgent，由招商银行研发，一款强大的产品经理AI助手，运行在全球顶尖的需求管理平台-需求空间中。在挖掘用户与业务需求与痛点、竞品分析、产品需求分析、产品需求文档编写、用户故事编写和最佳实践方面拥有广泛的知识。\n",
    "你正在与用户一起合作共同完成产品需求分析任务，任务可能涉及：根据产品需求规格说明书编写需求内容、优化/验证现有需求文档的质量、解答需求分析问题等。\n",
    "每次用户发送信息时，我们可能会附加一些与当前任务相关的信息，例如目前打开的产品需求文档、其他产品需求文档、会话历史信息等。这些信息是否与当前任务相关，由你决定。\n",
    "\"\"\"\n",
    "\n",
    "prompt = ChatPromptTemplate.from_messages(\n",
    "    [\n",
    "        SystemMessage(content=SYSTEM_PROMPT),\n",
    "        MessagesPlaceholder(variable_name=\"messages\"),\n",
    "    ]\n",
    ")\n",
    "chain = prompt | llm"
   ]
  },
  {
   "cell_type": "code",
   "execution_count": 158,
   "id": "f0d45500-2405-41c9-a49e-bc3f30428232",
   "metadata": {},
   "outputs": [
    {
     "data": {
      "text/plain": [
       "<langgraph.graph.state.StateGraph at 0x7fb1e8510100>"
      ]
     },
     "execution_count": 158,
     "metadata": {},
     "output_type": "execute_result"
    }
   ],
   "source": [
    "def requirement_generate(state: State):\n",
    "    messages = chain.invoke(state[\"messages\"])\n",
    "    return {\"messages\": [messages]}\n",
    "\n",
    "graph_builder.add_node(\"requirement_generator\", requirement_generate)"
   ]
  },
  {
   "cell_type": "code",
   "execution_count": 159,
   "id": "0334a83d-6879-471a-8869-b3eaba2e5d59",
   "metadata": {},
   "outputs": [
    {
     "data": {
      "text/plain": [
       "<langgraph.graph.state.StateGraph at 0x7fb1e8510100>"
      ]
     },
     "execution_count": 159,
     "metadata": {},
     "output_type": "execute_result"
    }
   ],
   "source": [
    "graph_builder.add_edge(START, \"requirement_generator\")\n",
    "graph_builder.add_edge(\"requirement_generator\", END)"
   ]
  },
  {
   "cell_type": "code",
   "execution_count": 160,
   "id": "2efdf039-9b84-4250-8f75-2a3e45a2fd13",
   "metadata": {},
   "outputs": [],
   "source": [
    "from langgraph.checkpoint.memory import MemorySaver\n",
    "\n",
    "memory = MemorySaver()\n",
    "graph = graph_builder.compile(checkpointer=memory)"
   ]
  },
  {
   "cell_type": "code",
   "execution_count": 161,
   "id": "659dea8c-4edb-46f9-8dc3-8a2396bef920",
   "metadata": {},
   "outputs": [
    {
     "data": {
      "image/png": "[encoded data removed]",
      "text/plain": [
       "<IPython.core.display.Image object>"
      ]
     },
     "metadata": {},
     "output_type": "display_data"
    }
   ],
   "source": [
    "from IPython.display import Image, display\n",
    "display(Image(graph.get_graph().draw_mermaid_png()))"
   ]
  },
  {
   "cell_type": "code",
   "execution_count": 162,
   "id": "ee06c25e-fe20-47c6-9289-90005211c6a4",
   "metadata": {},
   "outputs": [],
   "source": [
    "def invoke(input:str, config_id:int):\n",
    "    config = {\"configurable\": {\"thread_id\": config_id}}\n",
    "    return graph.stream(\n",
    "        {\"messages\": HumanMessage(content=input)},\n",
    "        config,\n",
    "        stream_mode=\"values\",\n",
    "    )"
   ]
  },
  {
   "cell_type": "code",
   "execution_count": 163,
   "id": "db81744f-7adc-43e8-a2c5-07cc3c930c4c",
   "metadata": {},
   "outputs": [
    {
     "name": "stdout",
     "output_type": "stream",
     "text": [
      "{'messages': [HumanMessage(content='招乎文档智能表格目前不能按单元格授予权限，需要支持按单元格授权才能满足用户需求。请按痛点、目标、改进思路、用户价值四个方面描述此需求，结果以表格形式呈现。', additional_kwargs={}, response_metadata={}, id='d3049301-c37c-421f-9033-41d65394750b')]}\n",
      "{'messages': [HumanMessage(content='招乎文档智能表格目前不能按单元格授予权限，需要支持按单元格授权才能满足用户需求。请按痛点、目标、改进思路、用户价值四个方面描述此需求，结果以表格形式呈现。', additional_kwargs={}, response_metadata={}, id='d3049301-c37c-421f-9033-41d65394750b'), AIMessage(content='| **维度**       | **内容描述**                                                                 |\\n|----------------|----------------------------------------------------------------------------|\\n| **痛点**       | 1. 当前权限管理仅支持行/列级别，无法针对特定单元格设置差异化权限<br>2. 敏感数据（如薪资、客户信息）易被非授权人员误操作或查看<br>3. 跨部门协作时，需频繁沟通权限范围，影响效率 |\\n| **目标**       | 1. 实现单元格级权限控制（查看/编辑/锁定等）<br>2. 保障数据安全的同时提升协作灵活性<br>3. 降低权限管理复杂度，支持可视化配置界面 |\\n| **改进思路**   | 1. **技术架构**：引入基于单元格的权限标签系统，与现有权限模型解耦<br>2. **功能设计**：新增“单元格权限”面板，支持批量设置/继承规则<br>3. **兼容性**：保留原有行/列级权限逻辑，新增单元格级权限优先级规则<br>4. **安全机制**：增加操作审计日志，记录单元格级权限变更历史 |\\n| **用户价值**   | 1. **数据安全**：精确控制敏感字段访问（如仅允许HR编辑薪资列）<br>2. **协作效率**：多部门可共用同一表格，自动隔离无关数据区域<br>3. **管理成本**：减少因权限冲突导致的文档版本混乱和重复沟通<br>4. **业务扩展**：支持更复杂的业务场景（如审批流程中特定字段的只读锁定） |\\n\\n**附加说明**：  \\n- 建议优先支持「查看/编辑」两种基础权限类型，后续迭代可扩展「数据格式锁定」「公式引用限制」等高级功能  \\n- 需与招乎文档的权限中心模块深度集成，确保与企业组织架构同步更新  \\n- 示例场景：财务报表中，管理层可查看所有数据，普通员工仅能查看本部门数据并编辑预算字段', additional_kwargs={}, response_metadata={'finish_reason': 'stop', 'model_name': 'qwen3-32b'}, id='run--15084c3d-0e0f-4bed-98e0-f3d9e8adf9ab-0')]}\n"
     ]
    }
   ],
   "source": [
    "events = invoke(\"招乎文档智能表格目前不能按单元格授予权限，需要支持按单元格授权才能满足用户需求。请按痛点、目标、改进思路、用户价值四个方面描述此需求，结果以表格形式呈现。\", 1)\n",
    "for event in events:\n",
    "    print(event)"
   ]
  },
  {
   "cell_type": "code",
   "execution_count": null,
   "id": "f8760879-a37f-46f1-a627-29bf6c4f5423",
   "metadata": {},
   "outputs": [],
   "source": []
  }
 ],
 "metadata": {
  "kernelspec": {
   "display_name": "Python 3 (ipykernel)",
   "language": "python",
   "name": "python3"
  },
  "language_info": {
   "codemirror_mode": {
    "name": "ipython",
    "version": 3
   },
   "file_extension": ".py",
   "mimetype": "text/x-python",
   "name": "python",
   "nbconvert_exporter": "python",
   "pygments_lexer": "ipython3",
   "version": "3.10.0"
  }
 },
 "nbformat": 4,
 "nbformat_minor": 5
}
