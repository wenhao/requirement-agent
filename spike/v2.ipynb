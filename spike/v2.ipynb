{
 "cells": [
  {
   "cell_type": "code",
   "execution_count": 57,
   "id": "5b9a644e-cb9f-4439-8bb5-f73b4f4cae7b",
   "metadata": {},
   "outputs": [
    {
     "data": {
      "text/plain": [
       "<langgraph.graph.state.StateGraph at 0x109ef3c70>"
      ]
     },
     "execution_count": 57,
     "metadata": {},
     "output_type": "execute_result"
    }
   ],
   "source": [
    "from langchain_openai import ChatOpenAI\n",
    "import os\n",
    "\n",
    "llm = ChatOpenAI(\n",
    "    model = \"qwen3-32b\",\n",
    "    api_key=os.getenv(\"DASHSCOPE_API_KEY\"),\n",
    "    base_url=\"https://dashscope.aliyuncs.com/compatible-mode/v1\",\n",
    "    streaming=True,\n",
    "    stream_usage=True,\n",
    "    temperature=0,\n",
    "    max_tokens=8000,\n",
    "    extra_body={\n",
    "        \"enable_thinking\": True,\n",
    "        \"thinking_budget\": 4096\n",
    "    },\n",
    ")\n",
    "\n",
    "from typing import Annotated\n",
    "\n",
    "from typing_extensions import TypedDict\n",
    "\n",
    "from langgraph.graph import StateGraph, START, END\n",
    "from langgraph.graph.message import add_messages\n",
    "\n",
    "class State(TypedDict):\n",
    "    messages: Annotated[list, add_messages]\n",
    "\n",
    "graph_builder = StateGraph(State)\n",
    "\n",
    "from langchain_core.messages import HumanMessage, SystemMessage\n",
    "from langchain_core.prompts import ChatPromptTemplate, MessagesPlaceholder\n",
    "\n",
    "SYSTEM_PROMPT=\"\"\"\n",
    "你是ReqAgent，由招商银行研发，一款强大的产品经理AI助手，运行在全球顶尖的需求管理平台-需求空间中。在挖掘用户与业务需求与痛点、竞品分析、产品需求分析、产品需求文档编写、用户故事编写和最佳实践方面拥有广泛的知识。\n",
    "你正在与用户一起合作共同完成产品需求分析任务，任务可能涉及：根据产品需求规格说明书编写需求内容、优化/验证现有需求文档的质量、解答需求分析问题等。\n",
    "每次用户发送信息时，我们可能会附加一些与当前任务相关的信息，例如目前打开的产品需求文档、其他产品需求文档、会话历史信息等。这些信息是否与当前任务相关，由你决定。\n",
    "\"\"\"\n",
    "\n",
    "prompt = ChatPromptTemplate.from_messages(\n",
    "    [\n",
    "        SystemMessage(content=SYSTEM_PROMPT),\n",
    "        MessagesPlaceholder(variable_name=\"messages\"),\n",
    "    ]\n",
    ")\n",
    "generate_chain = prompt | llm\n",
    "\n",
    "def requirement_generate(state: State) -> State:\n",
    "    messages = generate_chain.invoke(state[\"messages\"])\n",
    "    return {\"messages\": [messages]}\n",
    "\n",
    "graph_builder.add_node(\"requirement_generator\", requirement_generate)"
   ]
  },
  {
   "cell_type": "code",
   "execution_count": 58,
   "id": "b7baf1c9-0e0a-47cc-a78a-8580e14165e1",
   "metadata": {},
   "outputs": [],
   "source": [
    "SYSTEM_PROMPT=\"\"\"\n",
    "你是ReqAgent，由招商银行研发，一款强大的产品经理AI助手，运行在全球顶尖的需求管理平台-需求空间中。在挖掘用户与业务需求与痛点、竞品分析、产品需求分析、产品需求文档编写、用户故事编写和最佳实践方面拥有广泛的知识。\n",
    "你正在与用户一起合作共同完成产品需求分析任务，任务可能涉及：根据产品需求规格说明书编写需求内容、优化/验证现有需求文档的质量、解答需求分析问题等。\n",
    "每次用户发送信息时，我们可能会附加一些与当前任务相关的信息，例如目前打开的产品需求文档、其他产品需求文档、会话历史信息等。这些信息是否与当前任务相关，由你决定。\n",
    "\n",
    "你作为一名资深的产品经理，正在评审用户编写的产品需求文档。请为用户的产品需求文档生产评语和建议。\n",
    "请提供详细的建议，你可以使用以下维度进行评价和建议，具体使用以下那些维度由你决定。\n",
    "\n",
    "====\n",
    "\n",
    "评价维度\n",
    "\n",
    "## 完整性\n",
    "- 逻辑边界\n",
    "- 范围边界\n",
    "- 输入校验均无遗漏\n",
    "- 非功能\n",
    "- 异常场景\n",
    "\n",
    "## 正确性\n",
    "- 无歧义\n",
    "- 无逻辑错误\n",
    "- 术语正确\n",
    "- 清晰\n",
    "\n",
    "## 一致性\n",
    "- 无矛盾\n",
    "- 内容与目标对齐\n",
    "- 概念统一\n",
    "\n",
    "## 合理性\n",
    "- 具备可行性\n",
    "- 不过渡设计\n",
    "\n",
    "如果你认为产品需求文档写得非常好不需要评价和建议，请调用工具 attempt_completion返回产品需求文档的内容。\n",
    "\"\"\"\n",
    " "
   ]
  },
  {
   "cell_type": "code",
   "execution_count": 59,
   "id": "ecff658c-7c75-4fac-b285-3d9a89855d48",
   "metadata": {},
   "outputs": [],
   "source": [
    "from typing_extensions import Annotated, TypedDict\n",
    "\n",
    "class attempt_completion(TypedDict):\n",
    "    \"\"\"确认产品需求文档写得非常好，请使用此工具向用户展示产品需求文档的内容。\"\"\"\n",
    "\n",
    "    result: Annotated[str, \"产品需求文档的内容。以最终且不需要用户进一步输入的方式制定此结果。不要以问题或提供进一步帮助的提议结束你的结果。\"]\n",
    "\n",
    "tools = [attempt_completion]\n",
    "\n",
    "llm_with_tools = llm.bind_tools(tools)"
   ]
  },
  {
   "cell_type": "code",
   "execution_count": 60,
   "id": "7fdb1529-6594-43e4-b6b0-13807588930d",
   "metadata": {},
   "outputs": [
    {
     "data": {
      "text/plain": [
       "<langgraph.graph.state.StateGraph at 0x109ef3c70>"
      ]
     },
     "execution_count": 60,
     "metadata": {},
     "output_type": "execute_result"
    }
   ],
   "source": [
    "from langchain_core.messages import AIMessage\n",
    "\n",
    "reflection_prompt = ChatPromptTemplate.from_messages(\n",
    "    [\n",
    "        SystemMessage(content=SYSTEM_PROMPT),\n",
    "        MessagesPlaceholder(variable_name=\"messages\"),\n",
    "    ]\n",
    ")\n",
    "reflect_chain = reflection_prompt | llm_with_tools\n",
    "\n",
    "def requirement_reflect(state: State) -> State:\n",
    "    cls_map = {\"ai\": HumanMessage, \"human\": AIMessage}\n",
    "    translated = [state[\"messages\"][0]] + [\n",
    "        cls_map[msg.type](content=msg.content) for msg in state[\"messages\"][1:]\n",
    "    ]\n",
    "    ai_message = reflect_chain.invoke(translated)\n",
    "        \n",
    "    if hasattr(ai_message, \"tool_calls\"):\n",
    "        return {\"messages\": [ai_message]}\n",
    "    return {\"messages\": [HumanMessage(content=ai_message.content)]}\n",
    "\n",
    "graph_builder.add_node(\"requirement_reflection\", requirement_reflect)   "
   ]
  },
  {
   "cell_type": "code",
   "execution_count": 61,
   "id": "d8b9799d-cd76-44fc-87f4-f8f17a3401e0",
   "metadata": {},
   "outputs": [],
   "source": [
    "def should_continue(state: State):\n",
    "    message = state[\"messages\"][-1]\n",
    "    if hasattr(message, \"tool_calls\") and len(message.tool_calls) > 0:\n",
    "        return END\n",
    "    return \"requirement_generator\""
   ]
  },
  {
   "cell_type": "code",
   "execution_count": 62,
   "id": "22da05c6-4ecb-4bf6-aa99-5e324a6e79c2",
   "metadata": {},
   "outputs": [
    {
     "data": {
      "text/plain": [
       "<langgraph.graph.state.StateGraph at 0x109ef3c70>"
      ]
     },
     "execution_count": 62,
     "metadata": {},
     "output_type": "execute_result"
    }
   ],
   "source": [
    "graph_builder.add_edge(START, \"requirement_generator\")\n",
    "graph_builder.add_edge(\"requirement_generator\", \"requirement_reflection\")\n",
    "graph_builder.add_conditional_edges(\n",
    "    \"requirement_reflection\",\n",
    "    should_continue,\n",
    "    {\n",
    "        END: END,\n",
    "        \"requirement_generator\": \"requirement_generator\",\n",
    "    }\n",
    ")"
   ]
  },
  {
   "cell_type": "code",
   "execution_count": 63,
   "id": "a1af6bbe-8a57-4cc4-b078-ee2591a2985a",
   "metadata": {},
   "outputs": [],
   "source": [
    "from langgraph.checkpoint.memory import MemorySaver\n",
    "\n",
    "memory = MemorySaver()\n",
    "graph = graph_builder.compile(checkpointer=memory)"
   ]
  },
  {
   "cell_type": "code",
   "execution_count": 64,
   "id": "823d7b59-8617-4a33-bea9-9cb9700e68cb",
   "metadata": {},
   "outputs": [
    {
     "data": {
      "image/png": "[encoded data removed]",
      "text/plain": [
       "<IPython.core.display.Image object>"
      ]
     },
     "metadata": {},
     "output_type": "display_data"
    }
   ],
   "source": [
    "from IPython.display import Image, display\n",
    "\n",
    "display(Image(graph.get_graph().draw_mermaid_png()))"
   ]
  },
  {
   "cell_type": "code",
   "execution_count": 65,
   "id": "18a84e61-3290-49bc-a7f7-267d28f6b737",
   "metadata": {},
   "outputs": [],
   "source": [
    "def invoke(input:str, config_id:int):\n",
    "    config = {\"configurable\": {\"thread_id\": config_id}}\n",
    "    return graph.stream(\n",
    "        {\"messages\": HumanMessage(content=input)},\n",
    "        config,\n",
    "        stream_mode=\"values\",\n",
    "    )"
   ]
  },
  {
   "cell_type": "code",
   "execution_count": 56,
   "id": "28fcd750-857c-40ca-b7f3-bf901f88a6ae",
   "metadata": {},
   "outputs": [
    {
     "name": "stdout",
     "output_type": "stream",
     "text": [
      "{'messages': [HumanMessage(content='招乎文档智能表格目前不能按单元格授予权限，需要支持按单元格授权才能满足用户需求。请按痛点、目标、改进思路、用户价值四个方面描述此需求，结果以表格形式呈现。', additional_kwargs={}, response_metadata={}, id='813cfa9d-0f0f-44ed-83e8-9e56e54f990c')]}\n",
      "{'messages': [HumanMessage(content='招乎文档智能表格目前不能按单元格授予权限，需要支持按单元格授权才能满足用户需求。请按痛点、目标、改进思路、用户价值四个方面描述此需求，结果以表格形式呈现。', additional_kwargs={}, response_metadata={}, id='813cfa9d-0f0f-44ed-83e8-9e56e54f990c'), AIMessage(content='| **维度**       | **内容描述**                                                                                     |\\n|----------------|--------------------------------------------------------------------------------------------------|\\n| **痛点**       | 1. 当前权限控制仅支持表格/行级别，无法满足用户对**单元格级数据隔离**的需求<br>2. 多角色协作时易出现**权限冲突**（如某部门可编辑A列，另一部门仅可查看B列）<br>3. 敏感数据（如薪资、客户隐私）存在**泄露风险**，无法精准隐藏特定单元格内容 |\\n| **目标**       | 1. 实现**单元格级权限配置**（查看/编辑/隐藏）<br>2. 支持**多维度权限策略**（基于角色、部门、自定义标签等）<br>3. 保持表格交互流畅性，权限变更实时生效且不影响其他用户操作                         |\\n| **改进思路**   | 1. 引入**权限矩阵模型**，将单元格权限与用户属性动态关联<br>2. 开发**可视化权限编辑器**（类似Excel单元格选择+权限标签）<br>3. 构建**权限继承规则引擎**（父级权限默认继承，支持手动覆盖）<br>4. 增加**权限冲突预警机制**（如某单元格被多个规则覆盖时自动提示）           |\\n| **用户价值**   | 1. **数据安全升级**：精准控制敏感信息可见范围，符合GDPR等合规要求<br>2. **协作效率提升**：跨部门协作无需数据脱敏处理，直接共享完整表格<br>3. **管理成本降低**：通过自动化权限策略减少人工审批流程<br>4. **业务场景覆盖**：支持财务报销（隐藏审批人字段）、客户管理（隐藏联系方式字段）等细分场景 | \\n\\n注：建议同步规划**权限审计日志**功能，记录单元格级的权限变更历史，进一步强化数据治理能力。', additional_kwargs={}, response_metadata={'finish_reason': 'stop', 'model_name': 'qwen3-32b'}, id='run--b81e6162-fe4f-463c-aede-a3a884bb4d03-0', usage_metadata={'input_tokens': 206, 'output_tokens': 805, 'total_tokens': 1011, 'input_token_details': {}, 'output_token_details': {'reasoning': 380}})]}\n",
      "{'messages': [HumanMessage(content='招乎文档智能表格目前不能按单元格授予权限，需要支持按单元格授权才能满足用户需求。请按痛点、目标、改进思路、用户价值四个方面描述此需求，结果以表格形式呈现。', additional_kwargs={}, response_metadata={}, id='813cfa9d-0f0f-44ed-83e8-9e56e54f990c'), AIMessage(content='| **维度**       | **内容描述**                                                                                     |\\n|----------------|--------------------------------------------------------------------------------------------------|\\n| **痛点**       | 1. 当前权限控制仅支持表格/行级别，无法满足用户对**单元格级数据隔离**的需求<br>2. 多角色协作时易出现**权限冲突**（如某部门可编辑A列，另一部门仅可查看B列）<br>3. 敏感数据（如薪资、客户隐私）存在**泄露风险**，无法精准隐藏特定单元格内容 |\\n| **目标**       | 1. 实现**单元格级权限配置**（查看/编辑/隐藏）<br>2. 支持**多维度权限策略**（基于角色、部门、自定义标签等）<br>3. 保持表格交互流畅性，权限变更实时生效且不影响其他用户操作                         |\\n| **改进思路**   | 1. 引入**权限矩阵模型**，将单元格权限与用户属性动态关联<br>2. 开发**可视化权限编辑器**（类似Excel单元格选择+权限标签）<br>3. 构建**权限继承规则引擎**（父级权限默认继承，支持手动覆盖）<br>4. 增加**权限冲突预警机制**（如某单元格被多个规则覆盖时自动提示）           |\\n| **用户价值**   | 1. **数据安全升级**：精准控制敏感信息可见范围，符合GDPR等合规要求<br>2. **协作效率提升**：跨部门协作无需数据脱敏处理，直接共享完整表格<br>3. **管理成本降低**：通过自动化权限策略减少人工审批流程<br>4. **业务场景覆盖**：支持财务报销（隐藏审批人字段）、客户管理（隐藏联系方式字段）等细分场景 | \\n\\n注：建议同步规划**权限审计日志**功能，记录单元格级的权限变更历史，进一步强化数据治理能力。', additional_kwargs={}, response_metadata={'finish_reason': 'stop', 'model_name': 'qwen3-32b'}, id='run--b81e6162-fe4f-463c-aede-a3a884bb4d03-0', usage_metadata={'input_tokens': 206, 'output_tokens': 805, 'total_tokens': 1011, 'input_token_details': {}, 'output_token_details': {'reasoning': 380}}), AIMessage(content='', additional_kwargs={'tool_calls': [{'index': 0, 'id': 'call_39e0799953e241769d774c', 'function': {'arguments': '{\"result\": \"| **维度**       | **内容描述**                                                                                     |\\\\n|----------------|--------------------------------------------------------------------------------------------------|\\\\n| **痛点**       | 1. 当前权限控制仅支持表格/行级别，无法满足用户对**单元格级数据隔离**的需求<br>2. 多角色协作时易出现**权限冲突**（如某部门可编辑A列，另一部门仅可查看B列）<br>3. 敏感数据（如薪资、客户隐私）存在**泄露风险**，无法精准隐藏特定单元格内容 |\\\\n| **目标**       | 1. 实现**单元格级权限配置**（查看/编辑/隐藏）<br>2. 支持**多维度权限策略**（基于角色、部门、自定义标签等）<br>3. 保持表格交互流畅性，权限变更实时生效且不影响其他用户操作                         |\\\\n| **改进思路**   | 1. 引入**权限矩阵模型**，将单元格权限与用户属性动态关联<br>2. 开发**可视化权限编辑器**（类似Excel单元格选择+权限标签）<br>3. 构建**权限继承规则引擎**（父级权限默认继承，支持手动覆盖）<br>4. 增加**权限冲突预警机制**（如某单元格被多个规则覆盖时自动提示）           |\\\\n| **用户价值**   | 1. **数据安全升级**：精准控制敏感信息可见范围，符合GDPR等合规要求<br>2. **协作效率提升**：跨部门协作无需数据脱敏处理，直接共享完整表格<br>3. **管理成本降低**：通过自动化权限策略减少人工审批流程<br>4. **业务场景覆盖**：支持财务报销（隐藏审批人字段）、客户管理（隐藏联系方式字段）等细分场景 |\"}', 'name': 'attempt_completion'}, 'type': 'function'}]}, response_metadata={'finish_reason': 'tool_calls', 'model_name': 'qwen3-32b'}, id='run--a5268598-e48a-4e06-8cc1-fd840e103f67-0', tool_calls=[{'name': 'attempt_completion', 'args': {'result': '| **维度**       | **内容描述**                                                                                     |\\n|----------------|--------------------------------------------------------------------------------------------------|\\n| **痛点**       | 1. 当前权限控制仅支持表格/行级别，无法满足用户对**单元格级数据隔离**的需求<br>2. 多角色协作时易出现**权限冲突**（如某部门可编辑A列，另一部门仅可查看B列）<br>3. 敏感数据（如薪资、客户隐私）存在**泄露风险**，无法精准隐藏特定单元格内容 |\\n| **目标**       | 1. 实现**单元格级权限配置**（查看/编辑/隐藏）<br>2. 支持**多维度权限策略**（基于角色、部门、自定义标签等）<br>3. 保持表格交互流畅性，权限变更实时生效且不影响其他用户操作                         |\\n| **改进思路**   | 1. 引入**权限矩阵模型**，将单元格权限与用户属性动态关联<br>2. 开发**可视化权限编辑器**（类似Excel单元格选择+权限标签）<br>3. 构建**权限继承规则引擎**（父级权限默认继承，支持手动覆盖）<br>4. 增加**权限冲突预警机制**（如某单元格被多个规则覆盖时自动提示）           |\\n| **用户价值**   | 1. **数据安全升级**：精准控制敏感信息可见范围，符合GDPR等合规要求<br>2. **协作效率提升**：跨部门协作无需数据脱敏处理，直接共享完整表格<br>3. **管理成本降低**：通过自动化权限策略减少人工审批流程<br>4. **业务场景覆盖**：支持财务报销（隐藏审批人字段）、客户管理（隐藏联系方式字段）等细分场景 |'}, 'id': 'call_39e0799953e241769d774c', 'type': 'tool_call'}], usage_metadata={'input_tokens': 991, 'output_tokens': 871, 'total_tokens': 1862, 'input_token_details': {}, 'output_token_details': {'reasoning': 453}})]}\n"
     ]
    }
   ],
   "source": [
    "events = invoke(\"招乎文档智能表格目前不能按单元格授予权限，需要支持按单元格授权才能满足用户需求。请按痛点、目标、改进思路、用户价值四个方面描述此需求，结果以表格形式呈现。\", 2)\n",
    "for event in events:\n",
    "    print(event)"
   ]
  },
  {
   "cell_type": "code",
   "execution_count": null,
   "id": "68928560-9aa2-4186-960e-b0258e3c4d79",
   "metadata": {},
   "outputs": [],
   "source": []
  }
 ],
 "metadata": {
  "kernelspec": {
   "display_name": "Python 3 (ipykernel)",
   "language": "python",
   "name": "python3"
  },
  "language_info": {
   "codemirror_mode": {
    "name": "ipython",
    "version": 3
   },
   "file_extension": ".py",
   "mimetype": "text/x-python",
   "name": "python",
   "nbconvert_exporter": "python",
   "pygments_lexer": "ipython3",
   "version": "3.10.16"
  }
 },
 "nbformat": 4,
 "nbformat_minor": 5
}
